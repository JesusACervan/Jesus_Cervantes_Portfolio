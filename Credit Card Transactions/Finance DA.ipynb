{
 "cells": [
  {
   "cell_type": "code",
   "execution_count": null,
   "id": "0dc60168-e565-46e0-90bf-4a497900e296",
   "metadata": {},
   "outputs": [],
   "source": [
    "import matplotlib.pyplot as plt\n",
    "import seaborn as sns\n",
    "import pandas as pd\n",
    "\n",
    "cctrans = pd.read_parquet('/Users/jcervan/Desktop/DS4A Fall - Data Challenges/Finance/Datasets/credit_card_transaction_data_de.parquet', engine='pyarrow')\n",
    "ccuser = pd.read_parquet('/Users/jcervan/Desktop/DS4A Fall - Data Challenges/Finance/Datasets/credit_card_users_de.parquet', engine='pyarrow')\n",
    "cards = pd.read_parquet('/Users/jcervan/Desktop/DS4A Fall - Data Challenges/Finance/Datasets/sd254_cards_de.parquet', engine='pyarrow')"
   ]
  },
  {
   "cell_type": "code",
   "execution_count": null,
   "id": "8cf061a8-dc7a-4bbe-a04f-0028ce1d81d1",
   "metadata": {},
   "outputs": [],
   "source": [
    "cctrans.head()"
   ]
  },
  {
   "cell_type": "code",
   "execution_count": null,
   "id": "dd6fbdd0-bf6a-4124-a268-117de4a7aa04",
   "metadata": {},
   "outputs": [],
   "source": [
    "ccuser.head()\n"
   ]
  },
  {
   "cell_type": "code",
   "execution_count": null,
   "id": "02f8c337-adb3-461a-b3dd-42f3278c7d8d",
   "metadata": {},
   "outputs": [],
   "source": [
    "cards.head()"
   ]
  },
  {
   "cell_type": "code",
   "execution_count": null,
   "id": "31e9088d-f5e8-4097-8354-d1047f492a2e",
   "metadata": {},
   "outputs": [],
   "source": [
    "cards.dtypes"
   ]
  },
  {
   "cell_type": "code",
   "execution_count": null,
   "id": "bc09829a-6b9b-4ab0-bce6-ea51462a29f5",
   "metadata": {},
   "outputs": [],
   "source": [
    "## Transforming the data provided for all imported files\n",
    "cctrans['Amount'] = cctrans['Amount'].str.strip('$').astype(float)\n",
    "cctrans['Is Fraud?'] = cctrans['Is Fraud?'].replace('No',0).replace('Yes',1)\n",
    "cctrans[\"Hour\"] = cctrans[\"Time\"].str [0:2]\n",
    "cctrans[\"Minute\"] = cctrans[\"Time\"].str [3:5]\n",
    "cctrans = cctrans.drop(['Time'],axis=1)\n",
    "\n",
    "ccuser['User Id'] = ccuser.index\n",
    "ccuser['Per Capita Income - Zipcode'] = ccuser['Per Capita Income - Zipcode'].str.strip('$').astype(float)\n",
    "ccuser['Yearly Income - Person'] = ccuser['Yearly Income - Person'].str.strip('$').astype(float)\n",
    "ccuser['Total Debt'] = ccuser['Total Debt'].str.strip('$').astype(float)\n",
    "\n",
    "cards['Credit Limit'] = cards['Credit Limit'].str.strip('$').astype(float)\n",
    "cards['Card'] = cards['CARD INDEX']\n",
    "\n",
    "## Merging the files based on columns\n",
    "finance3 = pd.merge(cctrans, cards, on=['User','Card'], how='left')\n",
    "finance = pd.merge(finance3, ccuser, left_on='User', right_on='User Id', how='left')"
   ]
  },
  {
   "cell_type": "code",
   "execution_count": null,
   "id": "9c3156b4-70ee-4f7d-bff6-347ca3bf5b41",
   "metadata": {},
   "outputs": [],
   "source": [
    "## Dropping duplicates and determining which components of the data have a lot of null values.\n",
    "finance.drop_duplicates()\n",
    "print(finance.isnull().sum())"
   ]
  },
  {
   "cell_type": "code",
   "execution_count": null,
   "id": "4a514c12-33ea-4c49-a76c-0f96bfdb012b",
   "metadata": {},
   "outputs": [],
   "source": [
    "## Selecting only fraud data to explore which factors have high fraud counts\n",
    "fraud_data = finance[finance['Is Fraud?']==1]\n",
    "\n",
    "## Separating fraud data based on data types\n",
    "numFraudData = fraud_data.select_dtypes('number')\n",
    "objFraudData = fraud_data.select_dtypes('object')"
   ]
  },
  {
   "cell_type": "code",
   "execution_count": null,
   "id": "0bae4108-eb15-47b5-9b06-9dc9bd3820a7",
   "metadata": {},
   "outputs": [],
   "source": [
    "numFraudData.hist(bins=30,figsize=(30,30))"
   ]
  },
  {
   "cell_type": "code",
   "execution_count": null,
   "id": "052584d5-2627-4de9-8354-0eca95b219b5",
   "metadata": {},
   "outputs": [],
   "source": [
    "plt.figure(figsize=(5, 5))  \n",
    "sns.countplot(data=objFraudData, y='Merchant State', order=objFraudData['Merchant State'].value_counts().head(15).index)\n",
    "plt.title('Number of Fraudulent Transactions by Top 15 State')\n",
    "plt.show()"
   ]
  },
  {
   "cell_type": "code",
   "execution_count": null,
   "id": "4781e528-8999-4a95-aa65-7d7a4e0612ec",
   "metadata": {},
   "outputs": [],
   "source": [
    "plt.figure(figsize=(5, 5))\n",
    "top_cities = objFraudData['Merchant City'].value_counts().head(15).index\n",
    "sns.countplot(data=objFraudData, y='Merchant City', order=top_cities)\n",
    "plt.title('Number of Fraudulent Transactions by Top 15 Cities')\n",
    "plt.show()"
   ]
  },
  {
   "cell_type": "code",
   "execution_count": null,
   "id": "b0568fb8-e156-4cda-8dba-f643dc6351bd",
   "metadata": {},
   "outputs": [],
   "source": [
    "plt.figure(figsize=(5, 5))\n",
    "sns.countplot(data=objFraudData, x='Hour', order=sorted(fraud_data['Hour'].unique()))\n",
    "plt.title('Number of Fraudulent Transactions by Hour')\n",
    "plt.show()"
   ]
  },
  {
   "cell_type": "code",
   "execution_count": null,
   "id": "1d4dc6f0-cddc-4aad-9c16-043a99d77081",
   "metadata": {},
   "outputs": [],
   "source": [
    "plt.figure(figsize=(5, 5))\n",
    "sns.countplot(data=objFraudData, x='Has Chip')\n",
    "plt.title('Number of Fraudulent Transactions by Has Chip')\n",
    "plt.show()"
   ]
  },
  {
   "cell_type": "code",
   "execution_count": null,
   "id": "c2651d1d-926a-47da-86cf-f31b25929440",
   "metadata": {},
   "outputs": [],
   "source": [
    "plt.figure(figsize=(5, 5))\n",
    "sns.countplot(data=objFraudData, x='Use Chip')\n",
    "plt.title('Number of Fraudulent Transactions by Use Chip')\n",
    "plt.show()"
   ]
  },
  {
   "cell_type": "code",
   "execution_count": null,
   "id": "771408d6-5f99-42d4-94a6-44066422af38",
   "metadata": {},
   "outputs": [],
   "source": [
    "plt.figure(figsize=(5, 5))\n",
    "sns.countplot(data=objFraudData, x='Card Brand')\n",
    "plt.title('Number of Fraudulent Transactions by Card Brand')\n",
    "plt.show()"
   ]
  },
  {
   "cell_type": "code",
   "execution_count": null,
   "id": "3e276a15-ac9a-40d0-a174-48dcad866362",
   "metadata": {},
   "outputs": [],
   "source": [
    "plt.figure(figsize=(5, 5))\n",
    "sns.countplot(data=objFraudData, x='Card Type')\n",
    "plt.title('Number of Fraudulent Transactions by Card Type')\n",
    "plt.show()"
   ]
  },
  {
   "cell_type": "code",
   "execution_count": null,
   "id": "0d4b4da9-3de4-4d60-a9fa-a1d3b688291b",
   "metadata": {},
   "outputs": [],
   "source": [
    "plt.figure(figsize=(5, 5))\n",
    "sns.countplot(data=objFraudData, x='Gender')\n",
    "plt.title('Number of Fraudulent Transactions by Gender')\n",
    "plt.show()"
   ]
  },
  {
   "cell_type": "code",
   "execution_count": null,
   "id": "82a18a49-0d10-4e15-9c16-f4c578073962",
   "metadata": {},
   "outputs": [],
   "source": [
    "## Selecting the columns that I want to feed into my model\n",
    "select = ['Hour', 'Amount', 'Use Chip', 'Merchant Name', 'MCC', 'Card Brand','Card Type', 'Is Fraud?']\n",
    "finance = finance[select]\n",
    "\n",
    "## Transforming the columns into data that can be interpreted by the model\n",
    "finance['Use Chip'] = finance['Use Chip'].replace('Chip Transaction',0).replace('Online Transaction',1).replace('Swipe Transaction',2).astype(int)\n",
    "finance['Card Brand'] = finance['Card Brand'].replace('Visa',0).replace('Mastercard',1).replace('Discover',2).replace('Amex',3).astype(int)\n",
    "finance['Card Type'] = finance['Card Type'].replace('Debit',0).replace('Credit',1).replace('Debit (Prepaid)',2).astype(int)\n",
    "finance['Hour'] = finance['Hour'].astype(int)"
   ]
  },
  {
   "cell_type": "code",
   "execution_count": null,
   "id": "4f18bd9e-219c-41ce-aadf-6b1e2d9a4b26",
   "metadata": {},
   "outputs": [],
   "source": [
    "import numpy as np\n",
    "import sklearn\n",
    "from sklearn.preprocessing import StandardScaler\n",
    "from imblearn.under_sampling import RandomUnderSampler\n",
    "from sklearn.model_selection import train_test_split\n",
    "from sklearn.metrics import classification_report\n",
    "\n",
    "X = finance.drop('Is Fraud?', axis=1)\n",
    "y = finance['Is Fraud?']\n",
    "\n",
    "## Scaling the amount column since it has a big range of values\n",
    "sc = StandardScaler()\n",
    "X['Amount'] = sc.fit_transform(X[['Amount']])\n",
    "\n",
    "desired_proportion = 0.2\n",
    "fraud_samples = 8412 # Number of fraudulent data\n",
    "total_samples = int(fraud_samples/desired_proportion)\n",
    "\n",
    "## Create RandomUnderSampler with the desired sampling strategy\n",
    "rus = RandomUnderSampler(sampling_strategy={0: total_samples - fraud_samples, 1: fraud_samples}, random_state=1613)\n",
    "\n",
    "## Apply random undersampling to the original dataset\n",
    "X_resampled, y_resampled = rus.fit_resample(X, y)\n",
    "\n",
    "## Split the resampled data into train and test sets\n",
    "X_train, X_test, y_train, y_test = train_test_split(X_resampled, y_resampled, test_size=0.3, random_state=1613)"
   ]
  },
  {
   "cell_type": "code",
   "execution_count": null,
   "id": "34a28de8-fac5-4d40-ac4a-472fbaeb5691",
   "metadata": {},
   "outputs": [],
   "source": []
  },
  {
   "cell_type": "code",
   "execution_count": null,
   "id": "faa5f1b8-8dcf-4585-a698-286b281ca60e",
   "metadata": {},
   "outputs": [],
   "source": [
    "## Logistic Regression Model as our base case to determine how it categorizes fraudulent and non-fraudulent transactions\n",
    "from sklearn.linear_model import LogisticRegression\n",
    "\n",
    "model = LogisticRegression()\n",
    "model.fit(X_train,y_train)\n",
    "\n",
    "y_pred = model.predict(X_test)\n",
    "\n",
    "print(classification_report(y_test,y_pred))"
   ]
  },
  {
   "cell_type": "code",
   "execution_count": null,
   "id": "7b145660-c560-413c-89ef-27bf1f710107",
   "metadata": {},
   "outputs": [],
   "source": [
    "## RandomForestClassifier Model to compare to our base case and determine how it categorizes fraudulent and non-fraudulent transactions\n",
    "from sklearn.ensemble import RandomForestClassifier\n",
    "\n",
    "model = RandomForestClassifier(n_jobs=-1)\n",
    "model.fit(X_train,y_train)\n",
    "\n",
    "y_pred = model.predict(X_test)\n",
    "\n",
    "print(classification_report(y_test,y_pred))"
   ]
  }
 ],
 "metadata": {
  "kernelspec": {
   "display_name": "Python 3 (ipykernel)",
   "language": "python",
   "name": "python3"
  },
  "language_info": {
   "codemirror_mode": {
    "name": "ipython",
    "version": 3
   },
   "file_extension": ".py",
   "mimetype": "text/x-python",
   "name": "python",
   "nbconvert_exporter": "python",
   "pygments_lexer": "ipython3",
   "version": "3.9.12"
  }
 },
 "nbformat": 4,
 "nbformat_minor": 5
}
